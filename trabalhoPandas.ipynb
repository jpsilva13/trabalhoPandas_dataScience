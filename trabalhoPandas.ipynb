{
 "cells": [
  {
   "cell_type": "markdown",
   "id": "6db79b63",
   "metadata": {},
   "source": [
    "A base de dados escolhida foi uma base de dados que mostra a quantidade de doses aplicada em todos os países do mundo."
   ]
  },
  {
   "cell_type": "code",
   "execution_count": 52,
   "id": "9fd3ed8b",
   "metadata": {},
   "outputs": [],
   "source": [
    "import pandas as pd\n",
    "import matplotlib.pyplot as plt\n",
    "import seaborn as sns\n",
    "df=pd.read_csv(r'C:\\Users\\Cliente\\Desktop\\EAD\\2021-C\\Data Science\\covid-vaccination-doses-per-capita.csv',sep=\",\")"
   ]
  },
  {
   "cell_type": "markdown",
   "id": "318cdc2e",
   "metadata": {},
   "source": [
    "Operações:\n",
    "Operação de groupby, que realiza uma soma do número de vacinados em todos os países a cada dia. Para isso, foi necessário agrupar o database pela data e agregar o total de vacinados daquele dia, sendo realizado portanto operações de agregação e agrupamento."
   ]
  },
  {
   "cell_type": "code",
   "execution_count": 10,
   "id": "5422100a",
   "metadata": {
    "scrolled": true
   },
   "outputs": [
    {
     "data": {
      "text/html": [
       "<div>\n",
       "<style scoped>\n",
       "    .dataframe tbody tr th:only-of-type {\n",
       "        vertical-align: middle;\n",
       "    }\n",
       "\n",
       "    .dataframe tbody tr th {\n",
       "        vertical-align: top;\n",
       "    }\n",
       "\n",
       "    .dataframe thead th {\n",
       "        text-align: right;\n",
       "    }\n",
       "</style>\n",
       "<table border=\"1\" class=\"dataframe\">\n",
       "  <thead>\n",
       "    <tr style=\"text-align: right;\">\n",
       "      <th></th>\n",
       "      <th>total_vaccinations_per_hundred</th>\n",
       "    </tr>\n",
       "    <tr>\n",
       "      <th>Day</th>\n",
       "      <th></th>\n",
       "    </tr>\n",
       "  </thead>\n",
       "  <tbody>\n",
       "    <tr>\n",
       "      <th>2020-12-01</th>\n",
       "      <td>0.00</td>\n",
       "    </tr>\n",
       "    <tr>\n",
       "      <th>2020-12-02</th>\n",
       "      <td>0.00</td>\n",
       "    </tr>\n",
       "    <tr>\n",
       "      <th>2020-12-03</th>\n",
       "      <td>0.00</td>\n",
       "    </tr>\n",
       "    <tr>\n",
       "      <th>2020-12-04</th>\n",
       "      <td>0.00</td>\n",
       "    </tr>\n",
       "    <tr>\n",
       "      <th>2020-12-05</th>\n",
       "      <td>0.00</td>\n",
       "    </tr>\n",
       "    <tr>\n",
       "      <th>...</th>\n",
       "      <td>...</td>\n",
       "    </tr>\n",
       "    <tr>\n",
       "      <th>2021-10-16</th>\n",
       "      <td>9762.79</td>\n",
       "    </tr>\n",
       "    <tr>\n",
       "      <th>2021-10-17</th>\n",
       "      <td>11020.59</td>\n",
       "    </tr>\n",
       "    <tr>\n",
       "      <th>2021-10-18</th>\n",
       "      <td>12344.20</td>\n",
       "    </tr>\n",
       "    <tr>\n",
       "      <th>2021-10-19</th>\n",
       "      <td>10670.78</td>\n",
       "    </tr>\n",
       "    <tr>\n",
       "      <th>2021-10-20</th>\n",
       "      <td>6952.31</td>\n",
       "    </tr>\n",
       "  </tbody>\n",
       "</table>\n",
       "<p>324 rows × 1 columns</p>\n",
       "</div>"
      ],
      "text/plain": [
       "            total_vaccinations_per_hundred\n",
       "Day                                       \n",
       "2020-12-01                            0.00\n",
       "2020-12-02                            0.00\n",
       "2020-12-03                            0.00\n",
       "2020-12-04                            0.00\n",
       "2020-12-05                            0.00\n",
       "...                                    ...\n",
       "2021-10-16                         9762.79\n",
       "2021-10-17                        11020.59\n",
       "2021-10-18                        12344.20\n",
       "2021-10-19                        10670.78\n",
       "2021-10-20                         6952.31\n",
       "\n",
       "[324 rows x 1 columns]"
      ]
     },
     "execution_count": 10,
     "metadata": {},
     "output_type": "execute_result"
    }
   ],
   "source": [
    "df_byday = df.groupby([\"Day\"]).agg({\"total_vaccinations_per_hundred\":\"sum\"})\n",
    "df_byday"
   ]
  },
  {
   "cell_type": "markdown",
   "id": "193c7311",
   "metadata": {},
   "source": [
    "Abaixo é utilizado um filtro para que os resultados exibidos sejam apenas do Brasil."
   ]
  },
  {
   "cell_type": "code",
   "execution_count": 25,
   "id": "6c9591f0",
   "metadata": {},
   "outputs": [
    {
     "data": {
      "text/html": [
       "<div>\n",
       "<style scoped>\n",
       "    .dataframe tbody tr th:only-of-type {\n",
       "        vertical-align: middle;\n",
       "    }\n",
       "\n",
       "    .dataframe tbody tr th {\n",
       "        vertical-align: top;\n",
       "    }\n",
       "\n",
       "    .dataframe thead th {\n",
       "        text-align: right;\n",
       "    }\n",
       "</style>\n",
       "<table border=\"1\" class=\"dataframe\">\n",
       "  <thead>\n",
       "    <tr style=\"text-align: right;\">\n",
       "      <th></th>\n",
       "      <th>Entity</th>\n",
       "      <th>Code</th>\n",
       "      <th>Day</th>\n",
       "      <th>total_vaccinations_per_hundred</th>\n",
       "    </tr>\n",
       "  </thead>\n",
       "  <tbody>\n",
       "    <tr>\n",
       "      <th>3630</th>\n",
       "      <td>Brazil</td>\n",
       "      <td>BRA</td>\n",
       "      <td>2021-01-16</td>\n",
       "      <td>0.00</td>\n",
       "    </tr>\n",
       "    <tr>\n",
       "      <th>3631</th>\n",
       "      <td>Brazil</td>\n",
       "      <td>BRA</td>\n",
       "      <td>2021-01-17</td>\n",
       "      <td>0.00</td>\n",
       "    </tr>\n",
       "    <tr>\n",
       "      <th>3632</th>\n",
       "      <td>Brazil</td>\n",
       "      <td>BRA</td>\n",
       "      <td>2021-01-18</td>\n",
       "      <td>0.00</td>\n",
       "    </tr>\n",
       "    <tr>\n",
       "      <th>3633</th>\n",
       "      <td>Brazil</td>\n",
       "      <td>BRA</td>\n",
       "      <td>2021-01-19</td>\n",
       "      <td>0.01</td>\n",
       "    </tr>\n",
       "    <tr>\n",
       "      <th>3634</th>\n",
       "      <td>Brazil</td>\n",
       "      <td>BRA</td>\n",
       "      <td>2021-01-20</td>\n",
       "      <td>0.01</td>\n",
       "    </tr>\n",
       "    <tr>\n",
       "      <th>...</th>\n",
       "      <td>...</td>\n",
       "      <td>...</td>\n",
       "      <td>...</td>\n",
       "      <td>...</td>\n",
       "    </tr>\n",
       "    <tr>\n",
       "      <th>3855</th>\n",
       "      <td>Brazil</td>\n",
       "      <td>BRA</td>\n",
       "      <td>2021-10-14</td>\n",
       "      <td>117.21</td>\n",
       "    </tr>\n",
       "    <tr>\n",
       "      <th>3856</th>\n",
       "      <td>Brazil</td>\n",
       "      <td>BRA</td>\n",
       "      <td>2021-10-15</td>\n",
       "      <td>119.83</td>\n",
       "    </tr>\n",
       "    <tr>\n",
       "      <th>3857</th>\n",
       "      <td>Brazil</td>\n",
       "      <td>BRA</td>\n",
       "      <td>2021-10-17</td>\n",
       "      <td>120.47</td>\n",
       "    </tr>\n",
       "    <tr>\n",
       "      <th>3858</th>\n",
       "      <td>Brazil</td>\n",
       "      <td>BRA</td>\n",
       "      <td>2021-10-18</td>\n",
       "      <td>120.53</td>\n",
       "    </tr>\n",
       "    <tr>\n",
       "      <th>3859</th>\n",
       "      <td>Brazil</td>\n",
       "      <td>BRA</td>\n",
       "      <td>2021-10-19</td>\n",
       "      <td>121.47</td>\n",
       "    </tr>\n",
       "  </tbody>\n",
       "</table>\n",
       "<p>230 rows × 4 columns</p>\n",
       "</div>"
      ],
      "text/plain": [
       "      Entity Code         Day  total_vaccinations_per_hundred\n",
       "3630  Brazil  BRA  2021-01-16                            0.00\n",
       "3631  Brazil  BRA  2021-01-17                            0.00\n",
       "3632  Brazil  BRA  2021-01-18                            0.00\n",
       "3633  Brazil  BRA  2021-01-19                            0.01\n",
       "3634  Brazil  BRA  2021-01-20                            0.01\n",
       "...      ...  ...         ...                             ...\n",
       "3855  Brazil  BRA  2021-10-14                          117.21\n",
       "3856  Brazil  BRA  2021-10-15                          119.83\n",
       "3857  Brazil  BRA  2021-10-17                          120.47\n",
       "3858  Brazil  BRA  2021-10-18                          120.53\n",
       "3859  Brazil  BRA  2021-10-19                          121.47\n",
       "\n",
       "[230 rows x 4 columns]"
      ]
     },
     "execution_count": 25,
     "metadata": {},
     "output_type": "execute_result"
    }
   ],
   "source": [
    "df_bra=df.query(\"Entity=='Brazil'\")\n",
    "df_bra"
   ]
  },
  {
   "cell_type": "markdown",
   "id": "d3b27e03",
   "metadata": {},
   "source": [
    "Agora será utilizado o ultimo dia na base de dados, ou seja, o dia 19/10/2021, que foi o ultimo dia em que todos os países atualizaram os dados.(alguns ja haviam atualizado até dia 20). Através destes dados, utilizarei uma operação para descobrir quais são os 5 mais vacinados."
   ]
  },
  {
   "cell_type": "code",
   "execution_count": 59,
   "id": "4f982e79",
   "metadata": {},
   "outputs": [
    {
     "data": {
      "text/html": [
       "<div>\n",
       "<style scoped>\n",
       "    .dataframe tbody tr th:only-of-type {\n",
       "        vertical-align: middle;\n",
       "    }\n",
       "\n",
       "    .dataframe tbody tr th {\n",
       "        vertical-align: top;\n",
       "    }\n",
       "\n",
       "    .dataframe thead th {\n",
       "        text-align: right;\n",
       "    }\n",
       "</style>\n",
       "<table border=\"1\" class=\"dataframe\">\n",
       "  <thead>\n",
       "    <tr style=\"text-align: right;\">\n",
       "      <th></th>\n",
       "      <th>Entity</th>\n",
       "      <th>Code</th>\n",
       "      <th>Day</th>\n",
       "      <th>total_vaccinations_per_hundred</th>\n",
       "    </tr>\n",
       "  </thead>\n",
       "  <tbody>\n",
       "    <tr>\n",
       "      <th>25504</th>\n",
       "      <td>Singapore</td>\n",
       "      <td>SGP</td>\n",
       "      <td>2021-10-19</td>\n",
       "      <td>168.10</td>\n",
       "    </tr>\n",
       "    <tr>\n",
       "      <th>13964</th>\n",
       "      <td>Israel</td>\n",
       "      <td>ISR</td>\n",
       "      <td>2021-10-19</td>\n",
       "      <td>179.55</td>\n",
       "    </tr>\n",
       "    <tr>\n",
       "      <th>30700</th>\n",
       "      <td>Uruguay</td>\n",
       "      <td>URY</td>\n",
       "      <td>2021-10-19</td>\n",
       "      <td>186.73</td>\n",
       "    </tr>\n",
       "    <tr>\n",
       "      <th>29596</th>\n",
       "      <td>United Arab Emirates</td>\n",
       "      <td>ARE</td>\n",
       "      <td>2021-10-19</td>\n",
       "      <td>207.59</td>\n",
       "    </tr>\n",
       "    <tr>\n",
       "      <th>10846</th>\n",
       "      <td>Gibraltar</td>\n",
       "      <td>GIB</td>\n",
       "      <td>2021-10-19</td>\n",
       "      <td>248.81</td>\n",
       "    </tr>\n",
       "  </tbody>\n",
       "</table>\n",
       "</div>"
      ],
      "text/plain": [
       "                     Entity Code         Day  total_vaccinations_per_hundred\n",
       "25504             Singapore  SGP  2021-10-19                          168.10\n",
       "13964                Israel  ISR  2021-10-19                          179.55\n",
       "30700               Uruguay  URY  2021-10-19                          186.73\n",
       "29596  United Arab Emirates  ARE  2021-10-19                          207.59\n",
       "10846             Gibraltar  GIB  2021-10-19                          248.81"
      ]
     },
     "execution_count": 59,
     "metadata": {},
     "output_type": "execute_result"
    }
   ],
   "source": [
    "dfmais=df.query(\"Day=='2021-10-19'\").sort_values(\"total_vaccinations_per_hundred\").tail(5)\n",
    "dfmais"
   ]
  },
  {
   "cell_type": "markdown",
   "id": "29df4ab6",
   "metadata": {},
   "source": [
    "Agora, utilizarei a mesma tabela gerada acima, porém buscarei os 5 menos vacinados"
   ]
  },
  {
   "cell_type": "code",
   "execution_count": 58,
   "id": "d9d476b8",
   "metadata": {},
   "outputs": [
    {
     "data": {
      "text/html": [
       "<div>\n",
       "<style scoped>\n",
       "    .dataframe tbody tr th:only-of-type {\n",
       "        vertical-align: middle;\n",
       "    }\n",
       "\n",
       "    .dataframe tbody tr th {\n",
       "        vertical-align: top;\n",
       "    }\n",
       "\n",
       "    .dataframe thead th {\n",
       "        text-align: right;\n",
       "    }\n",
       "</style>\n",
       "<table border=\"1\" class=\"dataframe\">\n",
       "  <thead>\n",
       "    <tr style=\"text-align: right;\">\n",
       "      <th></th>\n",
       "      <th>Entity</th>\n",
       "      <th>Code</th>\n",
       "      <th>Day</th>\n",
       "      <th>total_vaccinations_per_hundred</th>\n",
       "    </tr>\n",
       "  </thead>\n",
       "  <tbody>\n",
       "    <tr>\n",
       "      <th>8804</th>\n",
       "      <td>Ethiopia</td>\n",
       "      <td>ETH</td>\n",
       "      <td>2021-10-19</td>\n",
       "      <td>3.43</td>\n",
       "    </tr>\n",
       "    <tr>\n",
       "      <th>16723</th>\n",
       "      <td>Low income</td>\n",
       "      <td>NaN</td>\n",
       "      <td>2021-10-19</td>\n",
       "      <td>4.26</td>\n",
       "    </tr>\n",
       "    <tr>\n",
       "      <th>32073</th>\n",
       "      <td>Zambia</td>\n",
       "      <td>ZMB</td>\n",
       "      <td>2021-10-19</td>\n",
       "      <td>4.50</td>\n",
       "    </tr>\n",
       "    <tr>\n",
       "      <th>17604</th>\n",
       "      <td>Malawi</td>\n",
       "      <td>MWI</td>\n",
       "      <td>2021-10-19</td>\n",
       "      <td>5.87</td>\n",
       "    </tr>\n",
       "    <tr>\n",
       "      <th>15016</th>\n",
       "      <td>Kenya</td>\n",
       "      <td>KEN</td>\n",
       "      <td>2021-10-19</td>\n",
       "      <td>8.50</td>\n",
       "    </tr>\n",
       "  </tbody>\n",
       "</table>\n",
       "</div>"
      ],
      "text/plain": [
       "           Entity Code         Day  total_vaccinations_per_hundred\n",
       "8804     Ethiopia  ETH  2021-10-19                            3.43\n",
       "16723  Low income  NaN  2021-10-19                            4.26\n",
       "32073      Zambia  ZMB  2021-10-19                            4.50\n",
       "17604      Malawi  MWI  2021-10-19                            5.87\n",
       "15016       Kenya  KEN  2021-10-19                            8.50"
      ]
     },
     "execution_count": 58,
     "metadata": {},
     "output_type": "execute_result"
    }
   ],
   "source": [
    "dfmenos=df.query(\"Day=='2021-10-19'\").sort_values(\"total_vaccinations_per_hundred\").head(5)\n",
    "dfmenos"
   ]
  },
  {
   "cell_type": "markdown",
   "id": "1050a3db",
   "metadata": {},
   "source": [
    "Vale observar que todos os países menos vacinados até o dia 19( 3 dias atrás) são países aficanos, o que mostra como a desigualdade social afeta a socidade nos mais diversos pontos. "
   ]
  },
  {
   "cell_type": "markdown",
   "id": "2c85693c",
   "metadata": {},
   "source": [
    "Agora, serão gerados gráficos sobre os dados gerados acima:"
   ]
  },
  {
   "cell_type": "markdown",
   "id": "1ea533c0",
   "metadata": {},
   "source": [
    "Gráfico de países menos vacinados:"
   ]
  },
  {
   "cell_type": "code",
   "execution_count": 60,
   "id": "bff63ffd",
   "metadata": {},
   "outputs": [
    {
     "name": "stderr",
     "output_type": "stream",
     "text": [
      "E:\\ANACONDA\\lib\\site-packages\\seaborn\\categorical.py:3714: UserWarning: The `factorplot` function has been renamed to `catplot`. The original name will be removed in a future release. Please update your code. Note that the default `kind` in `factorplot` (`'point'`) has changed `'strip'` in `catplot`.\n",
      "  warnings.warn(msg)\n"
     ]
    },
    {
     "data": {
      "image/png": "[encoded data removed]",
      "text/plain": [
       "<Figure size 526.875x360 with 1 Axes>"
      ]
     },
     "metadata": {
      "needs_background": "light"
     },
     "output_type": "display_data"
    }
   ],
   "source": [
    "sns.factorplot(x = 'Entity', y='total_vaccinations_per_hundred', \n",
    "               hue = 'total_vaccinations_per_hundred',data=dfmenos, kind='bar', height=5)\n",
    "plt.xticks(rotation=90)\n",
    "plt.show()"
   ]
  },
  {
   "cell_type": "markdown",
   "id": "de096628",
   "metadata": {},
   "source": [
    "Gráfico de países mais vacinados:"
   ]
  },
  {
   "cell_type": "code",
   "execution_count": 62,
   "id": "7056fa46",
   "metadata": {},
   "outputs": [
    {
     "name": "stderr",
     "output_type": "stream",
     "text": [
      "E:\\ANACONDA\\lib\\site-packages\\seaborn\\categorical.py:3714: UserWarning: The `factorplot` function has been renamed to `catplot`. The original name will be removed in a future release. Please update your code. Note that the default `kind` in `factorplot` (`'point'`) has changed `'strip'` in `catplot`.\n",
      "  warnings.warn(msg)\n"
     ]
    },
    {
     "data": {
      "image/png": "[encoded data removed]",
      "text/plain": [
       "<Figure size 526.875x360 with 1 Axes>"
      ]
     },
     "metadata": {
      "needs_background": "light"
     },
     "output_type": "display_data"
    }
   ],
   "source": [
    "sns.factorplot(x = 'Entity', y='total_vaccinations_per_hundred', \n",
    "               hue = 'total_vaccinations_per_hundred',data=dfmais, kind='bar', height=5)\n",
    "plt.xticks(rotation=90)\n",
    "plt.show()"
   ]
  },
  {
   "cell_type": "markdown",
   "id": "56429770",
   "metadata": {},
   "source": [
    "Fim!"
   ]
  },
  {
   "cell_type": "code",
   "execution_count": null,
   "id": "c37a570d",
   "metadata": {},
   "outputs": [],
   "source": []
  }
 ],
 "metadata": {
  "kernelspec": {
   "display_name": "Python 3",
   "language": "python",
   "name": "python3"
  },
  "language_info": {
   "codemirror_mode": {
    "name": "ipython",
    "version": 3
   },
   "file_extension": ".py",
   "mimetype": "text/x-python",
   "name": "python",
   "nbconvert_exporter": "python",
   "pygments_lexer": "ipython3",
   "version": "3.8.8"
  }
 },
 "nbformat": 4,
 "nbformat_minor": 5
}
